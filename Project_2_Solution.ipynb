{
 "cells": [
  {
   "cell_type": "markdown",
   "metadata": {},
   "source": [
    "# Project 2:  Lucid Titanic Sleuthing"
   ]
  },
  {
   "cell_type": "markdown",
   "metadata": {},
   "source": [
    "## Part 1: Developing an understanding of the data"
   ]
  },
  {
   "cell_type": "markdown",
   "metadata": {},
   "source": [
    "#### Based on the description of the data you read in the readme describe in your own words this data."
   ]
  },
  {
   "cell_type": "markdown",
   "metadata": {
    "collapsed": true
   },
   "source": [
    "Datasets describing the passengers and crew of 2 ship wrecks have been presented.  The datasets contain biographical data, details of the passage on the ship and survival data. "
   ]
  },
  {
   "cell_type": "markdown",
   "metadata": {},
   "source": [
    "#### Based on our conceptual understanding of the columns in this data set.  What are the reasonable range of the values for the Sex, Age, SibSp, Parch columns."
   ]
  },
  {
   "cell_type": "markdown",
   "metadata": {
    "collapsed": true
   },
   "source": [
    "The range for sex/gender is binary; it is either male or female.\n",
    "\n",
    "The Age range is a few months to 85 years old.  This range will be confirmed in the initial data inspection. \n",
    "\n",
    "The SibSp column describes family members of the same generation.  Expected values are 0 to 10. There should be peaks at 0 and 1 for single and married travelers.\n",
    "\n",
    "The ParCh column describes intergeneration connections.  The range should be 0 to 10.  There should be peaks at 0 and 2 for unattached travelers and chilren.  "
   ]
  },
  {
   "cell_type": "markdown",
   "metadata": {},
   "source": [
    "### Open the data in sublime text is there anything that jumps out to you?"
   ]
  },
  {
   "cell_type": "markdown",
   "metadata": {
    "collapsed": true
   },
   "source": [
    "While the datasets describe similar information, the presetnation of the data is very different.  The titanic data set has been encoded and cleaned for analysis.  The Lusitania dataset is contains more data as words and descriptions.  \n",
    "\n",
    "The contents of the datasets are different, as well.  The Lusitania dataset includes the crew where the Titanic dataset only refers to the passengers and a few employees of White Staar lines or the shipbuilder, Harland and Wolff."
   ]
  },
  {
   "cell_type": "markdown",
   "metadata": {},
   "source": [
    "## Part 2: reading the data in"
   ]
  },
  {
   "cell_type": "markdown",
   "metadata": {},
   "source": [
    "#### Now read the data into a Pandas DataFrame"
   ]
  },
  {
   "cell_type": "code",
   "execution_count": 1,
   "metadata": {
    "collapsed": false
   },
   "outputs": [],
   "source": [
    "import pandas as pd\n",
    "import numpy as np\n",
    "import scipy.stats as sp\n",
    "import matplotlib as ply\n",
    "%matplotlib inline\n",
    "import seaborn as sns\n",
    "from __future__ import print_function\n"
   ]
  },
  {
   "cell_type": "code",
   "execution_count": 2,
   "metadata": {
    "collapsed": false
   },
   "outputs": [],
   "source": [
    "titanic_df_raw = pd.read_csv('assets/titanic.csv')\n",
    "lusitania_df_raw = pd.read_csv('assets/lusitania.csv')"
   ]
  },
  {
   "cell_type": "markdown",
   "metadata": {},
   "source": [
    "#### Check that the age column doesn't have any unreasonable values "
   ]
  },
  {
   "cell_type": "markdown",
   "metadata": {},
   "source": [
    "The titanic age column is automatically converted to floatint points, which indicates there are all the data is numeric.  The range is 0.17 to 80 years. There are many missing values in the age column which are treated as NaN by pandas.  The missing values age values come primarily from the third class and those that embarked in Queenstown, Ireland.  "
   ]
  },
  {
   "cell_type": "code",
   "execution_count": 3,
   "metadata": {
    "collapsed": true
   },
   "outputs": [],
   "source": [
    "missing_age = titanic_df_raw.groupby(['embarked']).count()[['name','age']]\n",
    "missing_age['%Missing'] = (missing_age['name']-missing_age['age'])/missing_age['name']\n",
    "missing_age = titanic_df_raw.groupby(['pclass']).count()[['name','age']]\n",
    "missing_age['%Missing'] = (missing_age['name']-missing_age['age'])/missing_age['name']\n",
    "\n",
    "#repeat for pclass columns"
   ]
  },
  {
   "cell_type": "markdown",
   "metadata": {},
   "source": [
    "The Lusitania age data has number of values that can not be converted to a numeric value.  Along with missing data, there are many values that indicate uncertainity in the reported value, or report a value in months.  These values will need to be cleaned and converted to an appropriate years value."
   ]
  },
  {
   "cell_type": "markdown",
   "metadata": {
    "collapsed": true
   },
   "source": [
    "#### Check for missing values.  How do you know that a value is missing?"
   ]
  },
  {
   "cell_type": "markdown",
   "metadata": {
    "collapsed": true
   },
   "source": [
    "For both datasets, the missing values in the age column are converted to the pandas value 'NaN'."
   ]
  },
  {
   "cell_type": "markdown",
   "metadata": {},
   "source": [
    "#### Does it makes sense to guess at the value?"
   ]
  },
  {
   "cell_type": "markdown",
   "metadata": {
    "collapsed": true
   },
   "source": [
    "Guessing would not make sense without further information.  The range of ages in datasets is approximatly 0-80 years old.  Further grouping the data, may make guessing at ages a viable choice."
   ]
  },
  {
   "cell_type": "markdown",
   "metadata": {},
   "source": [
    "## Part 3: data imputation"
   ]
  },
  {
   "cell_type": "markdown",
   "metadata": {},
   "source": [
    "#### Well let’s say that it does... You likely noticed that Age has some missing values. How many are missing?"
   ]
  },
  {
   "cell_type": "markdown",
   "metadata": {},
   "source": [
    "Missing Age Values from Titanic:   263\n",
    "Missing Age Values from Lusitania: 653"
   ]
  },
  {
   "cell_type": "code",
   "execution_count": 4,
   "metadata": {
    "collapsed": false
   },
   "outputs": [
    {
     "data": {
      "text/plain": [
       "(263, 653)"
      ]
     },
     "execution_count": 4,
     "metadata": {},
     "output_type": "execute_result"
    }
   ],
   "source": [
    "missing_titan_age = sum(list(titanic_df_raw['age'].isnull()))\n",
    "missing_lusit_age = sum(list(lusitania_df_raw['Age'].isnull()))\n",
    "missing_titan_age, missing_lusit_age\n"
   ]
  },
  {
   "cell_type": "markdown",
   "metadata": {},
   "source": [
    "#### For the Age of the passengers ... how would you guess at the missing values using the other data present in the CSV."
   ]
  },
  {
   "cell_type": "markdown",
   "metadata": {
    "collapsed": true
   },
   "source": [
    "I would like to break the passengers into subsets. If the mean age of the subset is significantly different from the age of the population, the missing value can be updated to the mean of the subset.  If the subset mean is not signifcantly different or if the subset size is too small, I would reassign the mean of the population."
   ]
  },
  {
   "cell_type": "markdown",
   "metadata": {},
   "source": [
    "Cleaning the Titanic data"
   ]
  },
  {
   "cell_type": "code",
   "execution_count": 5,
   "metadata": {
    "collapsed": false
   },
   "outputs": [
    {
     "name": "stdout",
     "output_type": "stream",
     "text": [
      "Titanic dataset column names:\n",
      "Index([u'pclass', u'survived', u'name', u'sex', u'age', u'sibsp', u'parch',\n",
      "       u'ticket', u'fare', u'cabin', u'embarked', u'boat', u'body',\n",
      "       u'home.dest'],\n",
      "      dtype='object')\n"
     ]
    }
   ],
   "source": [
    "print (\"Titanic dataset column names:\") \n",
    "print (titanic_df_raw.columns)\n"
   ]
  },
  {
   "cell_type": "code",
   "execution_count": 6,
   "metadata": {
    "collapsed": false
   },
   "outputs": [
    {
     "name": "stdout",
     "output_type": "stream",
     "text": [
      "Mean age of passengers: All Passengers: 29.88  Standard Deviation: All Passengers: 14.41\n"
     ]
    }
   ],
   "source": [
    "#Mean And Standard Deviation for ages\n",
    "print (\"Mean age of passengers: All Passengers: \" +\n",
    "       format(round(titanic_df_raw['age'].mean(),2)) +\n",
    "      \"  Standard Deviation: All Passengers: \" +\n",
    "       format(round(titanic_df_raw['age'].std(),2)))\n",
    "\n",
    "chisquare_table = pd.DataFrame(columns=[\"Variable\",'value','mean','std','count','chisquared','p_value'])\n",
    "chisquare_table.loc[0]=['Population',np.nan,titanic_df_raw['age'].mean(),\n",
    "                         titanic_df_raw['age'].std(),\n",
    "                         titanic_df_raw['age'].count(),\n",
    "                         np.nan,np.nan]\n",
    "#agg_funcs = {'mean':np.mean, 'std_dev':np.std, 'count':np.count}\n",
    "\n",
    "# summary_df = titanic_df_raw.pivot_table(columns=['pclass'],aggfunc={'mean', 'count'},values=['age'])\n",
    "# temp_df = summary_df.transpose().reset_index()\n",
    "# temp_df['Variable'] = temp_df.columns[0][0]\n",
    "# temp_df\n"
   ]
  },
  {
   "cell_type": "code",
   "execution_count": 7,
   "metadata": {
    "collapsed": false
   },
   "outputs": [],
   "source": [
    "def make_z_test_table(df, values_col, test_columns_list): \n",
    "    import numpy as np\n",
    "    import pandas as pd\n",
    "    import scipy.stats as sp\n",
    "    \n",
    "    u0 = df[values_col].mean()\n",
    "    sigma = df[values_col].std()\n",
    "    median_val = df[values_col].median()\n",
    "    print ('Median of '+ format(values_col)+ ': '+ format(round(median_val,2)))\n",
    "    print ('Mean of '+ format(values_col)+ ': '+ format(round(u0,2)))\n",
    "    print ('Std Dev of '+ format(values_col)+ ': '+ format(round(sigma,2)))\n",
    "    \n",
    "    df_to_return =pd.DataFrame(columns=['Variable','category','count','mean'])\n",
    "    \n",
    "    for col in test_columns_list:\n",
    "        summary_df = df.pivot_table(columns=col,\\\n",
    "                                    values=[values_col], aggfunc={'mean', 'count'})\n",
    "        summary_df.rename(index=str, columns={values_col: values_col},inplace=True)\n",
    "        summary_df.columns[0]\n",
    "        summary_df.columns.name = 'category'\n",
    "        temp_df = summary_df.transpose().reset_index()\n",
    "        temp_df['Variable'] = col\n",
    "        temp_df_2 = pd.concat([temp_df['Variable'],temp_df['category'],\n",
    "                               temp_df[('age','count')],temp_df[('age','mean')]],\n",
    "                                  axis = 1, keys = ['Variable','category','count','mean'])\n",
    "        \n",
    "        df_to_return = pd.concat([df_to_return,temp_df_2], axis=0)\n",
    "        df_to_return['ZScore'] = (df_to_return['mean'] - u0)/(sigma/(df_to_return['count']**.5))\n",
    "\n",
    "        \n",
    "        \n",
    "    return df_to_return"
   ]
  },
  {
   "cell_type": "code",
   "execution_count": 8,
   "metadata": {
    "collapsed": false
   },
   "outputs": [],
   "source": [
    "titanic_df_updated = titanic_df_raw.copy()\n",
    "likely_child_func= lambda x: True if x==2 else False\n",
    "titanic_df_updated['likely_child'] = titanic_df_updated['parch']\n",
    "titanic_df_updated['likely_child'] = titanic_df_updated['likely_child'].apply(likely_child_func)"
   ]
  },
  {
   "cell_type": "code",
   "execution_count": 9,
   "metadata": {
    "collapsed": false
   },
   "outputs": [
    {
     "name": "stdout",
     "output_type": "stream",
     "text": [
      "Median of age: 28.0\n",
      "Mean of age: 29.88\n",
      "Std Dev of age: 14.41\n"
     ]
    },
    {
     "data": {
      "text/html": [
       "<div>\n",
       "<table border=\"1\" class=\"dataframe\">\n",
       "  <thead>\n",
       "    <tr style=\"text-align: right;\">\n",
       "      <th></th>\n",
       "      <th>Variable</th>\n",
       "      <th>ZScore</th>\n",
       "      <th>category</th>\n",
       "      <th>count</th>\n",
       "      <th>mean</th>\n",
       "    </tr>\n",
       "  </thead>\n",
       "  <tbody>\n",
       "    <tr>\n",
       "      <th>2</th>\n",
       "      <td>pclass</td>\n",
       "      <td>-7.865193</td>\n",
       "      <td>3</td>\n",
       "      <td>501.0</td>\n",
       "      <td>24.816367</td>\n",
       "    </tr>\n",
       "    <tr>\n",
       "      <th>1</th>\n",
       "      <td>likely_child</td>\n",
       "      <td>-7.451584</td>\n",
       "      <td>True</td>\n",
       "      <td>97.0</td>\n",
       "      <td>18.975979</td>\n",
       "    </tr>\n",
       "    <tr>\n",
       "      <th>0</th>\n",
       "      <td>sex</td>\n",
       "      <td>-1.631808</td>\n",
       "      <td>female</td>\n",
       "      <td>388.0</td>\n",
       "      <td>28.687088</td>\n",
       "    </tr>\n",
       "    <tr>\n",
       "      <th>1</th>\n",
       "      <td>survived</td>\n",
       "      <td>-1.380458</td>\n",
       "      <td>1</td>\n",
       "      <td>427.0</td>\n",
       "      <td>28.918244</td>\n",
       "    </tr>\n",
       "    <tr>\n",
       "      <th>2</th>\n",
       "      <td>embarked</td>\n",
       "      <td>-1.233802</td>\n",
       "      <td>S</td>\n",
       "      <td>782.0</td>\n",
       "      <td>29.245205</td>\n",
       "    </tr>\n",
       "    <tr>\n",
       "      <th>1</th>\n",
       "      <td>embarked</td>\n",
       "      <td>-0.613791</td>\n",
       "      <td>Q</td>\n",
       "      <td>50.0</td>\n",
       "      <td>28.630000</td>\n",
       "    </tr>\n",
       "    <tr>\n",
       "      <th>1</th>\n",
       "      <td>pclass</td>\n",
       "      <td>-0.419686</td>\n",
       "      <td>2</td>\n",
       "      <td>261.0</td>\n",
       "      <td>29.506705</td>\n",
       "    </tr>\n",
       "    <tr>\n",
       "      <th>0</th>\n",
       "      <td>survived</td>\n",
       "      <td>1.146547</td>\n",
       "      <td>0</td>\n",
       "      <td>619.0</td>\n",
       "      <td>30.545363</td>\n",
       "    </tr>\n",
       "    <tr>\n",
       "      <th>1</th>\n",
       "      <td>sex</td>\n",
       "      <td>1.253061</td>\n",
       "      <td>male</td>\n",
       "      <td>658.0</td>\n",
       "      <td>30.585228</td>\n",
       "    </tr>\n",
       "    <tr>\n",
       "      <th>0</th>\n",
       "      <td>likely_child</td>\n",
       "      <td>2.382327</td>\n",
       "      <td>False</td>\n",
       "      <td>949.0</td>\n",
       "      <td>30.995785</td>\n",
       "    </tr>\n",
       "    <tr>\n",
       "      <th>0</th>\n",
       "      <td>embarked</td>\n",
       "      <td>2.475983</td>\n",
       "      <td>C</td>\n",
       "      <td>212.0</td>\n",
       "      <td>32.332170</td>\n",
       "    </tr>\n",
       "    <tr>\n",
       "      <th>0</th>\n",
       "      <td>pclass</td>\n",
       "      <td>10.848791</td>\n",
       "      <td>1</td>\n",
       "      <td>284.0</td>\n",
       "      <td>39.159930</td>\n",
       "    </tr>\n",
       "  </tbody>\n",
       "</table>\n",
       "</div>"
      ],
      "text/plain": [
       "       Variable     ZScore category  count       mean\n",
       "2        pclass  -7.865193        3  501.0  24.816367\n",
       "1  likely_child  -7.451584     True   97.0  18.975979\n",
       "0           sex  -1.631808   female  388.0  28.687088\n",
       "1      survived  -1.380458        1  427.0  28.918244\n",
       "2      embarked  -1.233802        S  782.0  29.245205\n",
       "1      embarked  -0.613791        Q   50.0  28.630000\n",
       "1        pclass  -0.419686        2  261.0  29.506705\n",
       "0      survived   1.146547        0  619.0  30.545363\n",
       "1           sex   1.253061     male  658.0  30.585228\n",
       "0  likely_child   2.382327    False  949.0  30.995785\n",
       "0      embarked   2.475983        C  212.0  32.332170\n",
       "0        pclass  10.848791        1  284.0  39.159930"
      ]
     },
     "execution_count": 9,
     "metadata": {},
     "output_type": "execute_result"
    }
   ],
   "source": [
    "titanic_z_df = make_z_test_table(titanic_df_updated, 'age', ['pclass','sex','likely_child','survived','embarked'] )\n",
    "titanic_z_df.sort_values(['ZScore'])"
   ]
  },
  {
   "cell_type": "markdown",
   "metadata": {},
   "source": [
    "### Updating Age Values\n",
    "\n",
    "With the titanic dataset, The blank age values will be updated using the average values of the groups, if the z_score for that group is above 1.65.  I'll start with the most extreme values of the Z score.  Otherwise, I'll update the value to the average of the population. Also, I'll use a new column and maintain the original values, incase there original values are needed agian.\n",
    "\n",
    "##### This is was an unproductive rabbit hole.  Perhaps it will be useeful in the future...\n",
    "\n",
    "Updateing missing values to median, beacause the population skews younger."
   ]
  },
  {
   "cell_type": "code",
   "execution_count": 10,
   "metadata": {
    "collapsed": false
   },
   "outputs": [],
   "source": [
    "titanic_df_updated.age.fillna(titanic_df_updated.age.median(),inplace=True)"
   ]
  },
  {
   "cell_type": "markdown",
   "metadata": {},
   "source": [
    "## Part 4: Group Statistics"
   ]
  },
  {
   "cell_type": "markdown",
   "metadata": {
    "collapsed": true
   },
   "source": [
    "#### Are there any groups that were especially adversely affected in the Titanic wreck? (justify your response numerically)"
   ]
  },
  {
   "cell_type": "markdown",
   "metadata": {},
   "source": [
    "There are signifcant relationships between the survival rates and group membership on the Titanic.  Of four vairables considered, Sex, Age, Passenger Class and Point of Embarkation.  Point of Embarkation is a strongly related to the passenger class, and can be disimissed.  \n",
    "\n",
    "Overall, second and third class passengers(42% and 25% survival, respectively) faired much more poorly than first class (62% survival). \n",
    "\n",
    "Sex is a very strong predictor for survival rate from the titanic disaster.  Females had a 73% chance of surviving, but males had a 19% chance of surviving.\n",
    "\n",
    "The survival rate for children (under 15 years old) was 57%; for all other age groups the chance of survival was 36%.\n",
    "\n",
    "The single worst performing group was adult males from third class.  They had a 13.8% chance of survival vs a 38% chance of survival for the overal population of the Titanic.\n",
    "\n",
    "\n"
   ]
  },
  {
   "cell_type": "code",
   "execution_count": 11,
   "metadata": {
    "collapsed": true
   },
   "outputs": [],
   "source": [
    "titanic_df_updated['Age_bins']= pd.cut(titanic_df_updated['age'],bins = [0,15,30,45,80])"
   ]
  },
  {
   "cell_type": "code",
   "execution_count": 12,
   "metadata": {
    "collapsed": false
   },
   "outputs": [
    {
     "data": {
      "text/html": [
       "<div>\n",
       "<table border=\"1\" class=\"dataframe\">\n",
       "  <thead>\n",
       "    <tr style=\"text-align: right;\">\n",
       "      <th></th>\n",
       "      <th>Age_bins</th>\n",
       "    </tr>\n",
       "  </thead>\n",
       "  <tbody>\n",
       "    <tr>\n",
       "      <th>0</th>\n",
       "      <td>(15, 30]</td>\n",
       "    </tr>\n",
       "    <tr>\n",
       "      <th>1</th>\n",
       "      <td>(0, 15]</td>\n",
       "    </tr>\n",
       "    <tr>\n",
       "      <th>2</th>\n",
       "      <td>(0, 15]</td>\n",
       "    </tr>\n",
       "    <tr>\n",
       "      <th>3</th>\n",
       "      <td>(15, 30]</td>\n",
       "    </tr>\n",
       "    <tr>\n",
       "      <th>4</th>\n",
       "      <td>(15, 30]</td>\n",
       "    </tr>\n",
       "  </tbody>\n",
       "</table>\n",
       "</div>"
      ],
      "text/plain": [
       "   Age_bins\n",
       "0  (15, 30]\n",
       "1   (0, 15]\n",
       "2   (0, 15]\n",
       "3  (15, 30]\n",
       "4  (15, 30]"
      ]
     },
     "execution_count": 12,
     "metadata": {},
     "output_type": "execute_result"
    }
   ],
   "source": [
    "titanic_df_updated[['Age_bins']].head()"
   ]
  },
  {
   "cell_type": "code",
   "execution_count": 13,
   "metadata": {
    "collapsed": false
   },
   "outputs": [],
   "source": [
    "def chi_reporting(df, Target_Value_col, test_columns_list):\n",
    "    import numpy as np\n",
    "    import pandas as pd\n",
    "    import scipy.stats as sp\n",
    "        \n",
    "    list_to_return = [('Column','Chi_squared','p Value', \"ddof\")]\n",
    "    \n",
    "    for col in test_columns_list:\n",
    "        c_table = pd.crosstab(df[Target_Value_col],df[col])\n",
    "        chi_sq, p , ddof,_ = sp.chi2_contingency(c_table)\n",
    "        list_to_return.append((col, chi_sq,p,ddof))\n",
    "        \n",
    "\n",
    "        \n",
    "    return list_to_return"
   ]
  },
  {
   "cell_type": "code",
   "execution_count": 14,
   "metadata": {
    "collapsed": false
   },
   "outputs": [
    {
     "data": {
      "text/plain": [
       "[('Column', 'Chi_squared', 'p Value', 'ddof'),\n",
       " ('sex', 363.61790843882488, 4.5899249369529454e-81, 1),\n",
       " ('pclass', 127.85915643930328, 1.7208259588256052e-28, 2),\n",
       " ('embarked', 44.241743071452497, 2.4718809874825629e-10, 2),\n",
       " ('Age_bins', 25.982267066503969, 9.6192914303518465e-06, 3)]"
      ]
     },
     "execution_count": 14,
     "metadata": {},
     "output_type": "execute_result"
    }
   ],
   "source": [
    "chi_reporting(titanic_df_updated,'survived',['sex','pclass','embarked','Age_bins'])"
   ]
  },
  {
   "cell_type": "markdown",
   "metadata": {},
   "source": [
    "The four considered columns all show a significant relationshipwith the survival rate.\n"
   ]
  },
  {
   "cell_type": "code",
   "execution_count": 15,
   "metadata": {
    "collapsed": false
   },
   "outputs": [],
   "source": [
    "c_table = pd.crosstab(titanic_df_updated['survived'], [titanic_df_updated['pclass'],\n",
    "                      titanic_df_updated['Age_bins'], titanic_df_updated['sex']],margins=True).T"
   ]
  },
  {
   "cell_type": "code",
   "execution_count": 17,
   "metadata": {
    "collapsed": false
   },
   "outputs": [
    {
     "data": {
      "text/html": [
       "<div>\n",
       "<table border=\"1\" class=\"dataframe\">\n",
       "  <thead>\n",
       "    <tr style=\"text-align: right;\">\n",
       "      <th></th>\n",
       "      <th></th>\n",
       "      <th>survived</th>\n",
       "      <th>0</th>\n",
       "      <th>1</th>\n",
       "      <th>All</th>\n",
       "    </tr>\n",
       "    <tr>\n",
       "      <th>pclass</th>\n",
       "      <th>Age_bins</th>\n",
       "      <th>sex</th>\n",
       "      <th></th>\n",
       "      <th></th>\n",
       "      <th></th>\n",
       "    </tr>\n",
       "  </thead>\n",
       "  <tbody>\n",
       "    <tr>\n",
       "      <th rowspan=\"8\" valign=\"top\">1</th>\n",
       "      <th rowspan=\"2\" valign=\"top\">(0, 15]</th>\n",
       "      <th>female</th>\n",
       "      <td>1</td>\n",
       "      <td>2</td>\n",
       "      <td>3</td>\n",
       "    </tr>\n",
       "    <tr>\n",
       "      <th>male</th>\n",
       "      <td>0</td>\n",
       "      <td>5</td>\n",
       "      <td>5</td>\n",
       "    </tr>\n",
       "    <tr>\n",
       "      <th rowspan=\"2\" valign=\"top\">(15, 30]</th>\n",
       "      <th>female</th>\n",
       "      <td>1</td>\n",
       "      <td>56</td>\n",
       "      <td>57</td>\n",
       "    </tr>\n",
       "    <tr>\n",
       "      <th>male</th>\n",
       "      <td>42</td>\n",
       "      <td>21</td>\n",
       "      <td>63</td>\n",
       "    </tr>\n",
       "    <tr>\n",
       "      <th rowspan=\"2\" valign=\"top\">(30, 45]</th>\n",
       "      <th>female</th>\n",
       "      <td>1</td>\n",
       "      <td>44</td>\n",
       "      <td>45</td>\n",
       "    </tr>\n",
       "    <tr>\n",
       "      <th>male</th>\n",
       "      <td>28</td>\n",
       "      <td>20</td>\n",
       "      <td>48</td>\n",
       "    </tr>\n",
       "    <tr>\n",
       "      <th rowspan=\"2\" valign=\"top\">(45, 80]</th>\n",
       "      <th>female</th>\n",
       "      <td>2</td>\n",
       "      <td>37</td>\n",
       "      <td>39</td>\n",
       "    </tr>\n",
       "    <tr>\n",
       "      <th>male</th>\n",
       "      <td>48</td>\n",
       "      <td>15</td>\n",
       "      <td>63</td>\n",
       "    </tr>\n",
       "    <tr>\n",
       "      <th rowspan=\"8\" valign=\"top\">2</th>\n",
       "      <th rowspan=\"2\" valign=\"top\">(0, 15]</th>\n",
       "      <th>female</th>\n",
       "      <td>0</td>\n",
       "      <td>16</td>\n",
       "      <td>16</td>\n",
       "    </tr>\n",
       "    <tr>\n",
       "      <th>male</th>\n",
       "      <td>1</td>\n",
       "      <td>11</td>\n",
       "      <td>12</td>\n",
       "    </tr>\n",
       "    <tr>\n",
       "      <th rowspan=\"2\" valign=\"top\">(15, 30]</th>\n",
       "      <th>female</th>\n",
       "      <td>8</td>\n",
       "      <td>46</td>\n",
       "      <td>54</td>\n",
       "    </tr>\n",
       "    <tr>\n",
       "      <th>male</th>\n",
       "      <td>81</td>\n",
       "      <td>9</td>\n",
       "      <td>90</td>\n",
       "    </tr>\n",
       "    <tr>\n",
       "      <th rowspan=\"2\" valign=\"top\">(30, 45]</th>\n",
       "      <th>female</th>\n",
       "      <td>2</td>\n",
       "      <td>25</td>\n",
       "      <td>27</td>\n",
       "    </tr>\n",
       "    <tr>\n",
       "      <th>male</th>\n",
       "      <td>42</td>\n",
       "      <td>4</td>\n",
       "      <td>46</td>\n",
       "    </tr>\n",
       "    <tr>\n",
       "      <th rowspan=\"2\" valign=\"top\">(45, 80]</th>\n",
       "      <th>female</th>\n",
       "      <td>2</td>\n",
       "      <td>7</td>\n",
       "      <td>9</td>\n",
       "    </tr>\n",
       "    <tr>\n",
       "      <th>male</th>\n",
       "      <td>22</td>\n",
       "      <td>1</td>\n",
       "      <td>23</td>\n",
       "    </tr>\n",
       "    <tr>\n",
       "      <th rowspan=\"8\" valign=\"top\">3</th>\n",
       "      <th rowspan=\"2\" valign=\"top\">(0, 15]</th>\n",
       "      <th>female</th>\n",
       "      <td>18</td>\n",
       "      <td>19</td>\n",
       "      <td>37</td>\n",
       "    </tr>\n",
       "    <tr>\n",
       "      <th>male</th>\n",
       "      <td>29</td>\n",
       "      <td>13</td>\n",
       "      <td>42</td>\n",
       "    </tr>\n",
       "    <tr>\n",
       "      <th rowspan=\"2\" valign=\"top\">(15, 30]</th>\n",
       "      <th>female</th>\n",
       "      <td>72</td>\n",
       "      <td>74</td>\n",
       "      <td>146</td>\n",
       "    </tr>\n",
       "    <tr>\n",
       "      <th>male</th>\n",
       "      <td>298</td>\n",
       "      <td>49</td>\n",
       "      <td>347</td>\n",
       "    </tr>\n",
       "    <tr>\n",
       "      <th rowspan=\"2\" valign=\"top\">(30, 45]</th>\n",
       "      <th>female</th>\n",
       "      <td>18</td>\n",
       "      <td>11</td>\n",
       "      <td>29</td>\n",
       "    </tr>\n",
       "    <tr>\n",
       "      <th>male</th>\n",
       "      <td>74</td>\n",
       "      <td>13</td>\n",
       "      <td>87</td>\n",
       "    </tr>\n",
       "    <tr>\n",
       "      <th rowspan=\"2\" valign=\"top\">(45, 80]</th>\n",
       "      <th>female</th>\n",
       "      <td>2</td>\n",
       "      <td>2</td>\n",
       "      <td>4</td>\n",
       "    </tr>\n",
       "    <tr>\n",
       "      <th>male</th>\n",
       "      <td>17</td>\n",
       "      <td>0</td>\n",
       "      <td>17</td>\n",
       "    </tr>\n",
       "    <tr>\n",
       "      <th>All</th>\n",
       "      <th></th>\n",
       "      <th></th>\n",
       "      <td>809</td>\n",
       "      <td>500</td>\n",
       "      <td>1309</td>\n",
       "    </tr>\n",
       "  </tbody>\n",
       "</table>\n",
       "</div>"
      ],
      "text/plain": [
       "survived                  0    1   All\n",
       "pclass Age_bins sex                   \n",
       "1      (0, 15]  female    1    2     3\n",
       "                male      0    5     5\n",
       "       (15, 30] female    1   56    57\n",
       "                male     42   21    63\n",
       "       (30, 45] female    1   44    45\n",
       "                male     28   20    48\n",
       "       (45, 80] female    2   37    39\n",
       "                male     48   15    63\n",
       "2      (0, 15]  female    0   16    16\n",
       "                male      1   11    12\n",
       "       (15, 30] female    8   46    54\n",
       "                male     81    9    90\n",
       "       (30, 45] female    2   25    27\n",
       "                male     42    4    46\n",
       "       (45, 80] female    2    7     9\n",
       "                male     22    1    23\n",
       "3      (0, 15]  female   18   19    37\n",
       "                male     29   13    42\n",
       "       (15, 30] female   72   74   146\n",
       "                male    298   49   347\n",
       "       (30, 45] female   18   11    29\n",
       "                male     74   13    87\n",
       "       (45, 80] female    2    2     4\n",
       "                male     17    0    17\n",
       "All                     809  500  1309"
      ]
     },
     "execution_count": 17,
     "metadata": {},
     "output_type": "execute_result"
    }
   ],
   "source": [
    "c_table"
   ]
  },
  {
   "cell_type": "code",
   "execution_count": 18,
   "metadata": {
    "collapsed": false
   },
   "outputs": [
    {
     "data": {
      "text/plain": [
       "(0.1374722838137472, 0.3819709702062643)"
      ]
     },
     "execution_count": 18,
     "metadata": {},
     "output_type": "execute_result"
    }
   ],
   "source": [
    "1-((17+74+298.)/(17+87+347)), 500/1309.\n"
   ]
  },
  {
   "cell_type": "code",
   "execution_count": 19,
   "metadata": {
    "collapsed": false
   },
   "outputs": [
    {
     "data": {
      "text/html": [
       "<div>\n",
       "<table border=\"1\" class=\"dataframe\">\n",
       "  <thead>\n",
       "    <tr style=\"text-align: right;\">\n",
       "      <th>survived</th>\n",
       "      <th>0</th>\n",
       "      <th>1</th>\n",
       "      <th>All</th>\n",
       "    </tr>\n",
       "    <tr>\n",
       "      <th>pclass</th>\n",
       "      <th></th>\n",
       "      <th></th>\n",
       "      <th></th>\n",
       "    </tr>\n",
       "  </thead>\n",
       "  <tbody>\n",
       "    <tr>\n",
       "      <th>1</th>\n",
       "      <td>123</td>\n",
       "      <td>200</td>\n",
       "      <td>323</td>\n",
       "    </tr>\n",
       "    <tr>\n",
       "      <th>2</th>\n",
       "      <td>158</td>\n",
       "      <td>119</td>\n",
       "      <td>277</td>\n",
       "    </tr>\n",
       "    <tr>\n",
       "      <th>3</th>\n",
       "      <td>528</td>\n",
       "      <td>181</td>\n",
       "      <td>709</td>\n",
       "    </tr>\n",
       "    <tr>\n",
       "      <th>All</th>\n",
       "      <td>809</td>\n",
       "      <td>500</td>\n",
       "      <td>1309</td>\n",
       "    </tr>\n",
       "  </tbody>\n",
       "</table>\n",
       "</div>"
      ],
      "text/plain": [
       "survived    0    1   All\n",
       "pclass                  \n",
       "1         123  200   323\n",
       "2         158  119   277\n",
       "3         528  181   709\n",
       "All       809  500  1309"
      ]
     },
     "execution_count": 19,
     "metadata": {},
     "output_type": "execute_result"
    }
   ],
   "source": [
    "pd.crosstab(titanic_df_updated['pclass'], titanic_df_updated['survived'],margins=True)"
   ]
  },
  {
   "cell_type": "code",
   "execution_count": 20,
   "metadata": {
    "collapsed": false
   },
   "outputs": [
    {
     "data": {
      "text/html": [
       "<div>\n",
       "<table border=\"1\" class=\"dataframe\">\n",
       "  <thead>\n",
       "    <tr style=\"text-align: right;\">\n",
       "      <th>survived</th>\n",
       "      <th>0</th>\n",
       "      <th>1</th>\n",
       "      <th>All</th>\n",
       "    </tr>\n",
       "    <tr>\n",
       "      <th>sex</th>\n",
       "      <th></th>\n",
       "      <th></th>\n",
       "      <th></th>\n",
       "    </tr>\n",
       "  </thead>\n",
       "  <tbody>\n",
       "    <tr>\n",
       "      <th>female</th>\n",
       "      <td>127</td>\n",
       "      <td>339</td>\n",
       "      <td>466</td>\n",
       "    </tr>\n",
       "    <tr>\n",
       "      <th>male</th>\n",
       "      <td>682</td>\n",
       "      <td>161</td>\n",
       "      <td>843</td>\n",
       "    </tr>\n",
       "    <tr>\n",
       "      <th>All</th>\n",
       "      <td>809</td>\n",
       "      <td>500</td>\n",
       "      <td>1309</td>\n",
       "    </tr>\n",
       "  </tbody>\n",
       "</table>\n",
       "</div>"
      ],
      "text/plain": [
       "survived    0    1   All\n",
       "sex                     \n",
       "female    127  339   466\n",
       "male      682  161   843\n",
       "All       809  500  1309"
      ]
     },
     "execution_count": 20,
     "metadata": {},
     "output_type": "execute_result"
    }
   ],
   "source": [
    "pd.crosstab(titanic_df_updated['sex'], titanic_df_updated['survived'],margins=True)"
   ]
  },
  {
   "cell_type": "code",
   "execution_count": 21,
   "metadata": {
    "collapsed": false
   },
   "outputs": [
    {
     "data": {
      "text/html": [
       "<div>\n",
       "<table border=\"1\" class=\"dataframe\">\n",
       "  <thead>\n",
       "    <tr style=\"text-align: right;\">\n",
       "      <th>survived</th>\n",
       "      <th>0</th>\n",
       "      <th>1</th>\n",
       "      <th>All</th>\n",
       "    </tr>\n",
       "    <tr>\n",
       "      <th>Age_bins</th>\n",
       "      <th></th>\n",
       "      <th></th>\n",
       "      <th></th>\n",
       "    </tr>\n",
       "  </thead>\n",
       "  <tbody>\n",
       "    <tr>\n",
       "      <th>(0, 15]</th>\n",
       "      <td>49</td>\n",
       "      <td>66</td>\n",
       "      <td>115</td>\n",
       "    </tr>\n",
       "    <tr>\n",
       "      <th>(15, 30]</th>\n",
       "      <td>502</td>\n",
       "      <td>255</td>\n",
       "      <td>757</td>\n",
       "    </tr>\n",
       "    <tr>\n",
       "      <th>(30, 45]</th>\n",
       "      <td>165</td>\n",
       "      <td>117</td>\n",
       "      <td>282</td>\n",
       "    </tr>\n",
       "    <tr>\n",
       "      <th>(45, 80]</th>\n",
       "      <td>93</td>\n",
       "      <td>62</td>\n",
       "      <td>155</td>\n",
       "    </tr>\n",
       "    <tr>\n",
       "      <th>All</th>\n",
       "      <td>809</td>\n",
       "      <td>500</td>\n",
       "      <td>1309</td>\n",
       "    </tr>\n",
       "  </tbody>\n",
       "</table>\n",
       "</div>"
      ],
      "text/plain": [
       "survived    0    1   All\n",
       "Age_bins                \n",
       "(0, 15]    49   66   115\n",
       "(15, 30]  502  255   757\n",
       "(30, 45]  165  117   282\n",
       "(45, 80]   93   62   155\n",
       "All       809  500  1309"
      ]
     },
     "execution_count": 21,
     "metadata": {},
     "output_type": "execute_result"
    }
   ],
   "source": [
    "pd.crosstab(titanic_df_updated['Age_bins'], titanic_df_updated['survived'],margins=True)"
   ]
  },
  {
   "cell_type": "markdown",
   "metadata": {},
   "source": [
    "#### Are there any groups that outperformed the survival of the latter group? (justify your response numerically)\n"
   ]
  },
  {
   "cell_type": "markdown",
   "metadata": {
    "collapsed": false
   },
   "source": [
    "First and second class females and male children and were the groups most likely to survive with a 93% chance of surviving"
   ]
  },
  {
   "cell_type": "markdown",
   "metadata": {
    "collapsed": true
   },
   "source": [
    "## Part 5:  Comparative Statistics:  Lusitania"
   ]
  },
  {
   "cell_type": "code",
   "execution_count": 132,
   "metadata": {
    "collapsed": false
   },
   "outputs": [],
   "source": [
    "lusitania_df_raw['survived'] = lusitania_df_raw['Fate']\n",
    "\n",
    "#Convert Survived to 0 and 1 for easier calculation.\n",
    "\n",
    "lusitania_df_raw['survived']=lusitania_df_raw['survived'].str.replace('Saved.+$|Saved','1')\n",
    "lusitania_df_raw['survived']=lusitania_df_raw['survived'].str.replace('(Lost*)$|Not.+$', '0')\n",
    "lusitania_df_raw['survived']=lusitania_df_raw['survived'].astype('float')\n",
    "\n",
    "\n",
    "# Convert ages, dropping non-number values\n",
    "lusitania_df_raw['Age'].unique()\n",
    "lusitania_df_raw['age_mod'] = lusitania_df_raw['Age']\n",
    "lusitania_df_raw['age_mod'] = lusitania_df_raw['age_mod'].str.replace('.+months','1')\n",
    "lusitania_df_raw['age_mod'] = lusitania_df_raw['age_mod'].str.replace('Infant','1')\n",
    "lusitania_df_raw['age_mod'] = lusitania_df_raw['age_mod'].str.replace('^(\\d\\d).+\\?*','\\\\1')\n",
    "lusitania_df_raw['age_mod'] = lusitania_df_raw['age_mod'].str.replace('^(\\d) .+','1')\n",
    "lusitania_df_raw['age_mod'] = lusitania_df_raw['age_mod'].str.replace('\\?','28')\n",
    "lusitania_df_raw['age_mod'] = lusitania_df_raw['age_mod'].str.replace('(\\d)_','\\\\1')\n",
    "\n",
    "lusitania_df_raw['age_mod'].unique()\n",
    "lusitania_df_raw['age_mod'] = lusitania_df_raw['age_mod'].astype('float')\n",
    "lusitania_df_raw['age_mod'].fillna(32,inplace=True)\n",
    "lusitania_df_raw['age_bins'] = pd.cut(lusitania_df_raw['age_mod'],bins = [0,15,30,45,80])"
   ]
  },
  {
   "cell_type": "markdown",
   "metadata": {
    "collapsed": true
   },
   "source": [
    "#### Are there any groups that were especially adversely affected in the Titanic wreck? (justify your response numerically)\n",
    "\n",
    "Using the Chi^2 test, sex is not a significant factor. The survival for both sexes is about 38%.\n",
    "\n",
    "Comparing Sex, age, and passenger class, there is no signicficant difference for survival rates for any group."
   ]
  },
  {
   "cell_type": "code",
   "execution_count": 149,
   "metadata": {
    "collapsed": false
   },
   "outputs": [
    {
     "data": {
      "text/html": [
       "<div>\n",
       "<table border=\"1\" class=\"dataframe\">\n",
       "  <thead>\n",
       "    <tr style=\"text-align: right;\">\n",
       "      <th>Department/Class</th>\n",
       "      <th>Band</th>\n",
       "      <th>Deck</th>\n",
       "      <th>Engineering</th>\n",
       "      <th>Saloon</th>\n",
       "      <th>Second</th>\n",
       "      <th>Stowaway</th>\n",
       "      <th>Third</th>\n",
       "      <th>Third (Distressed British Seaman)</th>\n",
       "      <th>Victualling</th>\n",
       "      <th>All</th>\n",
       "    </tr>\n",
       "    <tr>\n",
       "      <th>survived</th>\n",
       "      <th></th>\n",
       "      <th></th>\n",
       "      <th></th>\n",
       "      <th></th>\n",
       "      <th></th>\n",
       "      <th></th>\n",
       "      <th></th>\n",
       "      <th></th>\n",
       "      <th></th>\n",
       "      <th></th>\n",
       "    </tr>\n",
       "  </thead>\n",
       "  <tbody>\n",
       "    <tr>\n",
       "      <th>0.0</th>\n",
       "      <td>2</td>\n",
       "      <td>32</td>\n",
       "      <td>201</td>\n",
       "      <td>178</td>\n",
       "      <td>372</td>\n",
       "      <td>3</td>\n",
       "      <td>236</td>\n",
       "      <td>3</td>\n",
       "      <td>167</td>\n",
       "      <td>1194</td>\n",
       "    </tr>\n",
       "    <tr>\n",
       "      <th>1.0</th>\n",
       "      <td>3</td>\n",
       "      <td>37</td>\n",
       "      <td>112</td>\n",
       "      <td>113</td>\n",
       "      <td>229</td>\n",
       "      <td>0</td>\n",
       "      <td>134</td>\n",
       "      <td>0</td>\n",
       "      <td>139</td>\n",
       "      <td>767</td>\n",
       "    </tr>\n",
       "    <tr>\n",
       "      <th>All</th>\n",
       "      <td>5</td>\n",
       "      <td>69</td>\n",
       "      <td>313</td>\n",
       "      <td>291</td>\n",
       "      <td>601</td>\n",
       "      <td>3</td>\n",
       "      <td>370</td>\n",
       "      <td>3</td>\n",
       "      <td>306</td>\n",
       "      <td>1961</td>\n",
       "    </tr>\n",
       "  </tbody>\n",
       "</table>\n",
       "</div>"
      ],
      "text/plain": [
       "Department/Class  Band  Deck  Engineering  Saloon  Second  Stowaway  Third  \\\n",
       "survived                                                                     \n",
       "0.0                  2    32          201     178     372         3    236   \n",
       "1.0                  3    37          112     113     229         0    134   \n",
       "All                  5    69          313     291     601         3    370   \n",
       "\n",
       "Department/Class  Third (Distressed British Seaman)  Victualling   All  \n",
       "survived                                                                \n",
       "0.0                                               3          167  1194  \n",
       "1.0                                               0          139   767  \n",
       "All                                               3          306  1961  "
      ]
     },
     "execution_count": 149,
     "metadata": {},
     "output_type": "execute_result"
    }
   ],
   "source": [
    "#chi_reporting(lusitania_df_raw,'survived',['age_bins'])\n",
    "\n",
    "sp.chi2_contingency(pd.crosstab(lusitania_df_raw['survived'],lusitania_df_raw['Sex']))\n",
    "sp.chi2_contingency(pd.crosstab(lusitania_df_raw['survived'],lusitania_df_raw['age_bins']))\n",
    "pd.crosstab(lusitania_df_raw['survived'],lusitania_df_raw['Sex'],margins=True)\n",
    "pd.crosstab(lusitania_df_raw['survived'],lusitania_df_raw['Department/Class'],margins=True)\n"
   ]
  },
  {
   "cell_type": "markdown",
   "metadata": {
    "collapsed": true
   },
   "source": [
    "#### Are there any groups that outperformed the survival of the latter group? (justify your response numerically)\n",
    "\n"
   ]
  },
  {
   "cell_type": "markdown",
   "metadata": {
    "collapsed": true
   },
   "source": [
    "No.  The average survival rate for all considered groups is about 38%"
   ]
  },
  {
   "cell_type": "markdown",
   "metadata": {},
   "source": [
    "#### What does the group-wise survival rate imply about circumstances during these two accidents?"
   ]
  },
  {
   "cell_type": "markdown",
   "metadata": {
    "collapsed": true
   },
   "source": [
    "For the Lusitania, one factor significantly changed the evacuation of the ship.  Primarily, since the Lusitania was sunk by a torpedo attack, the Lusitania sank much faster than the Titanic.  The rapid sinking led to rapid launching of the lifeboats with any persons hat could board the boat.  The protocol of women and children first was abandoned for filling the lifeboats as quickly as possible.  Only, 6 of the 48 lifeboasts were launched indicating the rapid, but incomplete, evacuation of the ship.\n",
    "\n"
   ]
  }
 ],
 "metadata": {
  "anaconda-cloud": {},
  "kernelspec": {
   "display_name": "Python [conda root]",
   "language": "python",
   "name": "conda-root-py"
  },
  "language_info": {
   "codemirror_mode": {
    "name": "ipython",
    "version": 2
   },
   "file_extension": ".py",
   "mimetype": "text/x-python",
   "name": "python",
   "nbconvert_exporter": "python",
   "pygments_lexer": "ipython2",
   "version": "2.7.12"
  }
 },
 "nbformat": 4,
 "nbformat_minor": 0
}
